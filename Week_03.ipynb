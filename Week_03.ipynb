{
 "cells": [
  {
   "attachments": {},
   "cell_type": "markdown",
   "metadata": {},
   "source": [
    "# 3. İFADELER VEARİTMETİK İŞLEMLER\n",
    "> ##### Bu bölümde;\n",
    "> \n",
    " - Python programlama dilinde kullanılan ifadeler ve aritmetik işlemler konusunda bilgi sahibi olacak\n",
    " - Operatör, işlem önceliği ve birleşim durumlarını açıklayabilecek\n",
    " - Python dilinde ortaya çıkan hata türlerini kavrayacaksınız. "
   ]
  },
  {
   "cell_type": "markdown",
   "metadata": {},
   "source": []
  },
  {
   "attachments": {},
   "cell_type": "markdown",
   "metadata": {},
   "source": [
    "# 3.1. Sabit Değerler\n",
    "\n",
    "- [x] Farklı Class'larda değişken Tanımı\n",
    "```python\n",
    "ogrenci_not = 34      #-------> int\n",
    "a = 25                #-------> int\n",
    "pi_sayısı = 3.14      #-------> float\n",
    "isim = \"Mehmet Özcan\" #----> string\n",
    "```\n",
    "\n",
    "\n",
    "- [x] Klavyeden girilen iki tam sayının \n",
    "```python\n",
    "deger1 = int(input(\"Bir sayı giriniz: \"))\n",
    "deger2 = int(input(\"Lütfen diğer sayıyı giriniz: \"))\n",
    "toplam = (deger1 + deger2)\n",
    "print(deger1, \"+\", deger2, \"=\", toplam)   # kısaca Print(\"İki sayının toplamı: \", toplam) şeklinde yazılabilir\n",
    "```"
   ]
  },
  {
   "attachments": {},
   "cell_type": "markdown",
   "metadata": {},
   "source": [
    "## 3.2. Python’da Sık Kullanılan Aritmetik İkili Operatörler\n",
    "\n",
    "```python\n",
    "\n",
    "x = 10  'Bu ifadede x değerine sabit bir integer(tamsayı) atanmıştır'\n",
    "# Eğer x değeri klavyeden girilecekse ----> int(input(\"X'i girin: \")) şeklinde yazılır \n",
    "\n",
    "y = 4   'Bu ifadede x değerine sabit bir integer(tamsayı) atanmıştır'\n",
    "# Eğer y değeri klavyeden girilecekse ---->  int(input(\"Y'i girin: \")) şeklinde yazılır \n",
    "\n",
    "print(\"x ve y nin toplamı: \", x+y)        \n",
    "print(\"x ve y nin farkı: \", x-y)\n",
    "print(\"x ve y nin çarpımıı: \", x*y)\n",
    "print(\"x in y ye bölümü: \", x/y)\n",
    "print(\"x in içindeki y katları:\", x//y)\n",
    "print(\"x in y ye bölümünden kalan:\", x%y) \n",
    "print(\"x üssü y: \", x**y)\n",
    "\n",
    "# Not! Çarpma ve toplama işlemi hariç(int*'str' and 'str'+'str') x, y değişkeni integer olmak zorunda\n",
    "```"
   ]
  },
  {
   "attachments": {},
   "cell_type": "markdown",
   "metadata": {},
   "source": [
    "# String ifadeleri toplama/birleştirme\n",
    "```python\n",
    "isim = \"Mehmet\"\n",
    "soy_isim = \"Özcan\"\n",
    "print(isim +\" \"+ soy_isim)   # Burada iki ifade arasında boşluk eklemek için \" \" ifadesi kullanılmıştır\n",
    "```"
   ]
  },
  {
   "attachments": {},
   "cell_type": "markdown",
   "metadata": {},
   "source": [
    "# Mod Kat Arama ve Kalanı Bulma\n",
    "```python\n",
    "sayi1 = 2023\n",
    "sayi2 = 17\n",
    "\n",
    "print(sayi1 // sayi2)  # 2023 sayısının içinde kaç tane 17 olduğunu bulur. 17 nin katlarını arar.\n",
    "print(sayi1 % sayi2)   # 2023 sayısının 17'e bölümünden kalanı bulur"
   ]
  },
  {
   "attachments": {},
   "cell_type": "markdown",
   "metadata": {},
   "source": [
    "# 3.3. Karışık Türlü İfadeler\n",
    "```python\n",
    "a = 4                     #int\n",
    "b = 10.2                  #float\n",
    "toplam = a + int(b)\n",
    "print(toplam)\n",
    "```\n",
    "\n",
    "# 3.4. Operatör Önceliği ve Birleşim\n",
    "\n",
    "Tüm Python operatörlerinde öncelik `precedence`\n",
    "ve birleşim `associativity` vardır.\n"
   ]
  },
  {
   "attachments": {},
   "cell_type": "markdown",
   "metadata": {},
   "source": [
    "# 3.5. İfadeleri Biçimlendirme\n",
    "```python\n",
    "islem = 3x + 2y-5 # Hatalı Düzeltilemli\n",
    "print(3*x + 2*y -5)\n",
    "print(3*x+2*y-5)\n",
    "print(3 * x + 2 * y - 5)\n",
    "print(3 * x+2 * y-5)\n",
    "print(3 * (x+2) * (y-5))\n",
    "print(3*(x + 2)*(y - 5))\n",
    "```"
   ]
  },
  {
   "attachments": {},
   "cell_type": "markdown",
   "metadata": {},
   "source": [
    "# 3.6. Yorumlar\n",
    "```python\n",
    "# Bu tekli satır için yorum ifadesidir\n",
    "\n",
    "# Çoklu yorum satırları için 3 tırnak ifadesini kullanıyoruz.\n",
    "''' Birden fazla yani çoklu satırlar için yorum ifadesidir.\n",
    " Görüldüğü gibi birden fazla veri yazıyoruz ve bunlar çalıştırılmaz''' \n",
    "```\n",
    "# 3.7. Hatalar\n",
    "```python\n",
    "y = 5\n",
    "x = y + 2\n",
    "y + 2 = x  # Hatalı değişken tanımalama. Değişkenlerde boşluk bırakılmaz.\n",
    "```\n",
    "# 3.7.1. Çalışma Zamanı Hataları\n",
    "```python\n",
    "# x = y + 2 d\n",
    "Eğer y değişkeni henüz atanmamışsa;\n",
    "(NameError: name \"y\" is not defined) hatası mesajını verir.\n",
    "Kullanıcıyı 32 (pay) ve 0 (payda) olarak yazdığınızda\n",
    "Zero Division Error: division by zero\n",
    "veya harf dizinini bölmeye kalktığınız takdirde\n",
    "unsupported operand type(s) for /: \"str\" and \"int\" uyarısı alabilirsiniz.'''\n",
    "```"
   ]
  },
  {
   "attachments": {},
   "cell_type": "markdown",
   "metadata": {},
   "source": [
    "- Kaynakça ve İleri Okuma:\n",
    "\n",
    "`Python Resmi Sitesi` ----> https://www.python.org/ \n",
    "\n",
    "`w3schools` ------------------> https://www.w3schools.com/python/default.asp\n",
    "\n",
    "`Yazbel Forumu!`  -----------> https://yazbel.com/ "
   ]
  },
  {
   "attachments": {},
   "cell_type": "markdown",
   "metadata": {},
   "source": [
    "#### `Mehmet Özcan` | Bilişim Teknolojileri Öğretmeni\n",
    "\n",
    "`Hakkımda daha fazla bilgiye` https://my.indeed.com/p/mehmetz-3kxtvpl adresinden ulaşabilirsiniz"
   ]
  }
 ],
 "metadata": {
  "language_info": {
   "name": "python"
  },
  "orig_nbformat": 4
 },
 "nbformat": 4,
 "nbformat_minor": 2
}
