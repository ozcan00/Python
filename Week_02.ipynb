{
 "cells": [
  {
   "attachments": {},
   "cell_type": "markdown",
   "metadata": {},
   "source": [
    "# 2. DEĞERLER VE DEĞİŞKENLER"
   ]
  },
  {
   "attachments": {},
   "cell_type": "markdown",
   "metadata": {},
   "source": [
    "\n",
    "## Bu bölümde;\n",
    "- Python programlama dilinde değerler ve değişkenler konusunda bilgi sahibi olacak\n",
    "- Veri türlerini tanıyacak\n",
    "- Farklı değişkenleri kullanan program yazabileceksiniz."
   ]
  },
  {
   "attachments": {},
   "cell_type": "markdown",
   "metadata": {},
   "source": [
    "# 2.1. Tam Sayı ve Diziler\n",
    "#### İnteger (int)  ----> Tam Sayılar\n",
    "#### String  (str)  ----> Metinsel İfadeler\n",
    "#### Float  (float) ----> Ondalıklı İfadeler\n",
    "\n",
    "```python\n",
    "print(type(5))  -------------------------------> # <class> --> integer \n",
    "print(type(int('5')))  ------------------------> # <class> --> string\n",
    "print(type(int((\"20\")) + (-5))) ---------------> # <class> --> integer \n",
    "print(type(str(72)))  -------------------------> # <class> --> integer \n",
    "print(type(('5')))  ---------------------------> # <class> --> string\n",
    "print(type((5+(-15))))  -----------------------> # <class> --> integer \n",
    "print(type(int((\"20\")) + (-5)))  --------------> # <class> --> integer \n",
    "print(type(int(('2023'))))  -------------------> # <class> --> integer \n",
    "print(type((\"510\")))  -------------------------> # <class> --> string\n",
    "print(\" # ---> yorum satırı\")\n"
   ]
  },
  {
   "attachments": {},
   "cell_type": "markdown",
   "metadata": {},
   "source": [
    "# 2.2. Değişkenler ve Değer Atama\n",
    "\n",
    "- [x] Problem:\n",
    "```python\n",
    "\"Kullanıcıdan istenen 2 sınav için notu için bu iki sınavın ortalaması ekrana yazdırılacaktır.\"\n",
    "\n",
    "sinav1 = int(input(\"Birinci Sınav Notu: \"))          \n",
    "sinav2 = int(input(\"İkinci Sınav Notu: \"))           \n",
    "ortalama = ((sinav1 + sinav2) / 2)\n",
    "print(\"İki Sınavın Ortalaması: \", ortalama)          # print(f'İki sınavın ortalaması: {ortalama}') \n",
    "```\n",
    "\n",
    "- [x] Problem:\n",
    "```python\n",
    "'''Kullanıcıdan Vize ve Final notu istenerek, girilen bu notlar ile sene sonu ortalaması hesaplanacaktır.\n",
    "Sene sonu ortalaması aşağıdaki kurala göre hesaplanacaktır ve sonucunda ekrana “GEÇTİ” veya “KALDI” yazdırılacaktır.\n",
    "Not! vize %40 Final %60 etkilidir'''\n",
    "\n",
    "vize_notu = input(\"Vize notunu girin: \")                   \n",
    "final_notu = input(\"Final notunu girin: \")            \n",
    "ortalama = (float(vize*0.4 ) + float(final*0.6))\n",
    "print(\"Ortalama: \", ortalama)                         # print(f'Ortalama: {ortalama}')\n",
    "if (ortalama < 50):\n",
    "    print(\"Kaldı\")\n",
    "else:\n",
    "    print(\"Geçti\")\n",
    "\n",
    "```"
   ]
  },
  {
   "attachments": {},
   "cell_type": "markdown",
   "metadata": {},
   "source": [
    "# Round    --> Ondalıklı sayıyı tam sayıya yuvarlama\n",
    "### Float ---> Ondalıklı sayılar\n",
    "```python\n",
    "sayi = 123456.0987654321234567\n",
    "print(sayi)            -------------> Sayıyı ekrana yazar\n",
    "print(int(sayi))       -------------> Tam sayıya çevirir\n",
    "print(round(sayi))     -------------> Tam sayıya yuvarlar/tamamlar\n",
    "print(round(sayi, 2))  -------------> Ondalık basamak kaydırma görevi yapar\n",
    "```\n",
    "###  Not!\n",
    "    Ondalık sayıdaki ondalık basamağının ilk rakamı >= 5 ise sayı +1 eklenir yani 1'e tamamlanır.\n",
    ">Örneğin \n",
    "```python \n",
    "sayi = 24.54 ve round(sayi) run ---> 25 e tamamlar ve '25' diye yazdırır\n",
    "sayi = 24.45 ve round(sayi) run ---> ondalıktan sonraki basamak '< 5' olduğu için '24' yazdırır.\n",
    "```"
   ]
  },
  {
   "attachments": {},
   "cell_type": "markdown",
   "metadata": {},
   "source": [
    "# 2.4. Belirteçler\n",
    "```python\n",
    "isim = \"Mehmet Özcan\"  -------------> String(\"metinsel ifade\") tanımlaması yapılmıştır\n",
    "degisken = 72\n",
    "            |++++++++++++++++++>> \" eşitliğin bu kısmında değişkenlerin değeri tanımlanır ve RAM Belleğe aktarılır\"\n",
    "            \n",
    "# degisken = \"Metinsel İfadeler String Olarak Tanımlanır. Burada yazıldığı gibi. Şu an string bir değişkenin değerini okuyorsunuz!\"\n",
    "\n",
    "degisken = 2023\n",
    "\n",
    "print(\"Değişkeninin değeri\", degisken, \"ve tipi\", type(degisken))\n",
    "print(f'Değişkenin değeri: {degisken}, ve class tipi: {type(degisken)}')\n",
    "\n",
    "\n",
    "degisken = '2023'\n",
    "\n",
    "print(\"Değişkeninin değeri\", degisken, \"ve tipi\", type(degisken))  \n",
    "print(f'Değişkenin değeri: {degisken}, ve class tipi: {type(degisken)}')\n",
    "\n",
    "\n",
    "sayi = 3.14\n",
    "print(\"Değişkenin değeri\", sayi, \"ve tipi\", type(sayi))\n",
    "rint(f'Değişkenin değeri: {sayi}, ve class tipi: {type(degisken)}')\n",
    "\n",
    "```"
   ]
  },
  {
   "attachments": {},
   "cell_type": "markdown",
   "metadata": {},
   "source": [
    "# Python için Ayrılmış Kelimeler\n",
    "\n",
    ">\n",
    "```python\n",
    "and del from as elif global assert else if\n",
    "break except import class False in continue finally is\n",
    "def for lambda\n",
    "```\n",
    "\n",
    "#### Bu kelimeler ile herhangi bir tanımalama yapmıyoruz. Bunlar `Rezerv Function` yani ayrılmış fonksiyonlardır"
   ]
  },
  {
   "attachments": {},
   "cell_type": "markdown",
   "metadata": {},
   "source": [
    "- Kaynakça ve İleri Okuma:\n",
    "\n",
    "`Python Resmi Sitesi` ----> https://www.python.org/ \n",
    "\n",
    "`w3schools` ------------------> https://www.w3schools.com/python/default.asp\n",
    "\n",
    "`Yazbel Forumu!`  -----------> https://yazbel.com/ "
   ]
  },
  {
   "attachments": {},
   "cell_type": "markdown",
   "metadata": {},
   "source": [
    "#### `Mehmet Özcan` | Bilişim Teknolojileri Öğretmeni\n",
    "\n",
    "`Hakkımda daha fazla bilgiye` https://my.indeed.com/p/mehmetz-3kxtvpl adresinden ulaşabilirsiniz"
   ]
  }
 ],
 "metadata": {
  "kernelspec": {
   "display_name": "Python 3",
   "language": "python",
   "name": "python3"
  },
  "language_info": {
   "codemirror_mode": {
    "name": "ipython",
    "version": 3
   },
   "file_extension": ".py",
   "mimetype": "text/x-python",
   "name": "python",
   "nbconvert_exporter": "python",
   "pygments_lexer": "ipython3",
   "version": "3.9.13"
  },
  "orig_nbformat": 4
 },
 "nbformat": 4,
 "nbformat_minor": 2
}
